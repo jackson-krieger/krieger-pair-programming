{
 "cells": [
  {
   "cell_type": "markdown",
   "id": "1ec2918b-1202-4b9f-b473-015bd7efc390",
   "metadata": {},
   "source": [
    "# Convert coordinates from polar to cartesian\n",
    "## GPGN 268\n",
    "### Jackson Krieger\n",
    "### February 16, 2023"
   ]
  },
  {
   "cell_type": "code",
   "execution_count": 3,
   "id": "01adf9ff-2977-45d5-aed0-4e17e5cd6d50",
   "metadata": {},
   "outputs": [],
   "source": [
    "import math"
   ]
  },
  {
   "cell_type": "code",
   "execution_count": 4,
   "id": "3c34ab7a-4ab6-4cd9-af3b-eee29ef6c4ef",
   "metadata": {},
   "outputs": [],
   "source": [
    "def polar_to_cartesian(polar):\n",
    "    \"\"\" Takes an integer input of polar coordinates (theta in radians) and returns the cartesian equivalent.\n",
    "    \n",
    "    Polar format\n",
    "    ------------\n",
    "    (R, Theta)\n",
    "    \n",
    "    Cartesian format\n",
    "    ----------------\n",
    "    (x, y)\n",
    "    Output is given in a float\n",
    "    \"\"\"\n",
    "    x = polar[0] * math.cos(polar[1])\n",
    "    y = polar[0] * math.sin(polar[1])\n",
    "    cartesian = [x, y]\n",
    "    return cartesian"
   ]
  },
  {
   "cell_type": "code",
   "execution_count": 5,
   "id": "4d1b2850-2a62-4705-a91c-8b2a25f9d582",
   "metadata": {},
   "outputs": [
    {
     "data": {
      "text/plain": [
       "[0.8660254037844387, 0.49999999999999994]"
      ]
     },
     "execution_count": 5,
     "metadata": {},
     "output_type": "execute_result"
    }
   ],
   "source": [
    "polar_to_cartesian([1, math.pi/6])"
   ]
  },
  {
   "cell_type": "code",
   "execution_count": 17,
   "id": "7f5cbf59-be2f-4c76-894d-22ef68a95d67",
   "metadata": {},
   "outputs": [],
   "source": [
    "def test_polar_to_cartesian():\n",
    "    #Function by Jim Gabriel\n",
    "    assert polar_to_cartesian((1, math.pi)) == [-1,0], \"polar_to_cartesian failed test\""
   ]
  },
  {
   "cell_type": "code",
   "execution_count": 18,
   "id": "68b9e85e-439e-4fca-85cf-ba10c60b7809",
   "metadata": {},
   "outputs": [
    {
     "ename": "AssertionError",
     "evalue": "polar_to_cartesian failed test",
     "output_type": "error",
     "traceback": [
      "\u001b[1;31m---------------------------------------------------------------------------\u001b[0m",
      "\u001b[1;31mAssertionError\u001b[0m                            Traceback (most recent call last)",
      "\u001b[1;32m~\\AppData\\Local\\Temp\\ipykernel_6076\\366393910.py\u001b[0m in \u001b[0;36m<module>\u001b[1;34m\u001b[0m\n\u001b[1;32m----> 1\u001b[1;33m \u001b[0mtest_polar_to_cartesian\u001b[0m\u001b[1;33m(\u001b[0m\u001b[1;33m)\u001b[0m\u001b[1;33m\u001b[0m\u001b[1;33m\u001b[0m\u001b[0m\n\u001b[0m",
      "\u001b[1;32m~\\AppData\\Local\\Temp\\ipykernel_6076\\3537506748.py\u001b[0m in \u001b[0;36mtest_polar_to_cartesian\u001b[1;34m()\u001b[0m\n\u001b[0;32m      1\u001b[0m \u001b[1;32mdef\u001b[0m \u001b[0mtest_polar_to_cartesian\u001b[0m\u001b[1;33m(\u001b[0m\u001b[1;33m)\u001b[0m\u001b[1;33m:\u001b[0m\u001b[1;33m\u001b[0m\u001b[1;33m\u001b[0m\u001b[0m\n\u001b[1;32m----> 2\u001b[1;33m     \u001b[1;32massert\u001b[0m \u001b[0mpolar_to_cartesian\u001b[0m\u001b[1;33m(\u001b[0m\u001b[1;33m(\u001b[0m\u001b[1;36m1\u001b[0m\u001b[1;33m,\u001b[0m \u001b[0mmath\u001b[0m\u001b[1;33m.\u001b[0m\u001b[0mpi\u001b[0m\u001b[1;33m)\u001b[0m\u001b[1;33m)\u001b[0m \u001b[1;33m==\u001b[0m \u001b[1;33m[\u001b[0m\u001b[1;33m-\u001b[0m\u001b[1;36m1\u001b[0m\u001b[1;33m,\u001b[0m\u001b[1;36m0\u001b[0m\u001b[1;33m]\u001b[0m\u001b[1;33m,\u001b[0m \u001b[1;34m\"polar_to_cartesian failed test\"\u001b[0m\u001b[1;33m\u001b[0m\u001b[1;33m\u001b[0m\u001b[0m\n\u001b[0m",
      "\u001b[1;31mAssertionError\u001b[0m: polar_to_cartesian failed test"
     ]
    }
   ],
   "source": [
    "test_polar_to_cartesian()"
   ]
  },
  {
   "cell_type": "code",
   "execution_count": null,
   "id": "ec99f096-6516-4e07-a8f7-dc2671711d7a",
   "metadata": {},
   "outputs": [],
   "source": []
  }
 ],
 "metadata": {
  "kernelspec": {
   "display_name": "Python 3 (ipykernel)",
   "language": "python",
   "name": "python3"
  },
  "language_info": {
   "codemirror_mode": {
    "name": "ipython",
    "version": 3
   },
   "file_extension": ".py",
   "mimetype": "text/x-python",
   "name": "python",
   "nbconvert_exporter": "python",
   "pygments_lexer": "ipython3",
   "version": "3.9.13"
  }
 },
 "nbformat": 4,
 "nbformat_minor": 5
}
