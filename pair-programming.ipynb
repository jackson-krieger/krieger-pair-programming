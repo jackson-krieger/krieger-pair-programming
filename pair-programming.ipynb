{
 "cells": [
  {
   "cell_type": "markdown",
   "id": "1ec2918b-1202-4b9f-b473-015bd7efc390",
   "metadata": {},
   "source": [
    "# Convert coordinates from polar to cartesian\n",
    "## GPGN 268\n",
    "### Jackson Krieger\n",
    "### February 16, 2023"
   ]
  },
  {
   "cell_type": "code",
   "execution_count": 1,
   "id": "01adf9ff-2977-45d5-aed0-4e17e5cd6d50",
   "metadata": {},
   "outputs": [],
   "source": [
    "import math"
   ]
  },
  {
   "cell_type": "code",
   "execution_count": 2,
   "id": "3c34ab7a-4ab6-4cd9-af3b-eee29ef6c4ef",
   "metadata": {},
   "outputs": [],
   "source": [
    "def polar_to_cartesian(polar):\n",
    "    \"\"\" Takes an input of polar coordinates and returns the cartesian equivalent.\n",
    "    \n",
    "    Polar format\n",
    "    ------------\n",
    "    (R, Theta)\n",
    "    Theta input is taken in radians, not degrees.\n",
    "    \n",
    "    Cartesian format\n",
    "    ----------------\n",
    "    (x, y)\n",
    "    Output is given in a float\n",
    "    \"\"\"\n",
    "    x = polar[0] * math.cos(polar[1])\n",
    "    y = polar[0] * math.sin(polar[1])\n",
    "    cartesian = [x, y]\n",
    "    return cartesian"
   ]
  },
  {
   "cell_type": "code",
   "execution_count": 7,
   "id": "4d1b2850-2a62-4705-a91c-8b2a25f9d582",
   "metadata": {},
   "outputs": [
    {
     "data": {
      "text/plain": [
       "[-0.8660254037844387, -0.49999999999999994]"
      ]
     },
     "execution_count": 7,
     "metadata": {},
     "output_type": "execute_result"
    }
   ],
   "source": [
    "polar_to_cartesian([1, math.pi/6])"
   ]
  }
 ],
 "metadata": {
  "kernelspec": {
   "display_name": "Python 3 (ipykernel)",
   "language": "python",
   "name": "python3"
  },
  "language_info": {
   "codemirror_mode": {
    "name": "ipython",
    "version": 3
   },
   "file_extension": ".py",
   "mimetype": "text/x-python",
   "name": "python",
   "nbconvert_exporter": "python",
   "pygments_lexer": "ipython3",
   "version": "3.9.13"
  }
 },
 "nbformat": 4,
 "nbformat_minor": 5
}
